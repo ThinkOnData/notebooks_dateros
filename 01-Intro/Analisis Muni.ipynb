{
 "cells": [
  {
   "cell_type": "markdown",
   "metadata": {},
   "source": [
    "# Análisis de datos de gastos municipales con Pandas y Jupyter Notebooks\n",
    "\n",
    "# Introducción"
   ]
  },
  {
   "cell_type": "markdown",
   "metadata": {},
   "source": [
    "Este es el primero de varios talleres introductorios al procesamiento y limpieza de datos. En este estaremos usando como ambiente de trabajo a **Jupyter**, que permite crear documentos con código y prosa, además de almacenar resultados de las operaciones ejecutadas (cálculos, graficas, etc). Jupyter permite interactuar con varios lenguajes de programación, en este, usaremos **Python**, un lenguaje de programación bastante simple y poderoso, con acceso a una gran variedad de librerias para procesamiento de datos. Entre estas, está **Pandas**, una libreria que nos da acceso a estructuras de datos muy poderosas para manipular datos.\n",
    "\n",
    "¡Comenzemos entonces! "
   ]
  },
  {
   "cell_type": "markdown",
   "metadata": {},
   "source": [
    "## Instalación\n",
    "\n",
    "Para poder ejecutar este *Notebook*, necesitas tener instalado Python 3, el cual corre en todos los sistemas operativos actuales, sin embargo, para instalar las dependencias: Pandas y Jupyter.\n",
    "\n",
    "### Modo Sencillo\n",
    "\n",
    "Puedes leerte para mas detalles: [https://es.schoolofdata.org/2017/07/20/preparate-para-aprender-python-guia-de-instalacion-de-bibliotecas/)[es.schoolofdata.org/2017/07/20/preparate-para-aprender-python-guia-de-instalacion-de-bibliotecas/]\n",
    "\n",
    "Recomiendo utilizar la distribución Anaconda https://www.continuum.io/downloads en su version para Python 3, esta incluye instalado Jupyter, Pandas, Numpy y Scipy, y mucho otro software útil. Sigue las instrucciones en la documentacion de Anaconda para configurar un ambiente de desarollo con Jupyter.\n",
    "https://docs.continuum.io/anaconda/navigator/getting-started.html\n",
    "\n",
    "Una vez instalado, prueba a seguir los paso de https://www.tutorialpython.com/modulos-python/ o tu tutorial de Python Favorito.\n",
    "\n",
    "\n",
    "\n",
    "### \"It's a Unix System, I know This!\" - Modo Avanzado\n",
    "\n",
    "Te recomiendo utilizar Python 3.6 o superior, instalar la version mas reciente posible de virtualenv y pip. Usa Git para obtener el codigo, crea un nuevo entorno de desarollo y ahi instala las dependencias necesarias. \n",
    "\n",
    "\n",
    "    ~/$ cd notebooks\n",
    "    ~/notebooks/$ git clone https://github.com/tian2992/notebooks_dateros.git\n",
    "    ~/notebooks/$ cd notebooks_dateros/\n",
    "    ~/notebooks/notebooks_dateros/$ \n",
    "    ~/notebooks/notebooks_dateros/$ virtualenv venv/\n",
    "    ~/notebooks/notebooks_dateros/$ source venv/bin/activate\n",
    "    ~/notebooks/notebooks_dateros/$ pip install -r requirements.txt\n",
    "    ~/notebooks/notebooks_dateros/$ cd 01-Intro\n",
    "    ~/notebooks/notebooks_dateros/$ 7z e municipal_guatemala_2008-2011.7z\n",
    "    ~/notebooks/notebooks_dateros/$ jupyter-notebook\n",
    "    \n",
    "\n"
   ]
  },
  {
   "cell_type": "markdown",
   "metadata": {},
   "source": [
    "# Primeros pasos"
   ]
  },
  {
   "cell_type": "code",
   "execution_count": null,
   "metadata": {
    "scrolled": true
   },
   "outputs": [],
   "source": [
    "## En Jupyter Notebooks existen varios tipos de celdas, las celdas de código, como esta:\n",
    "print(1+1)\n",
    "print(5+4)\n",
    "6+4"
   ]
  },
  {
   "cell_type": "markdown",
   "metadata": {},
   "source": [
    "Y las celdas de texto, que se escriben en Markdown y son hechas para humanos. Pueden incluir **negritas**, *itálicas* Entre otros tipos de estilos. Tambien pueden incluirse imagenes o incluso interactivos. E incluso Mates como en $ \\LaTeX $ con ecuaciones y todo...\n",
    "$$\n",
    "\\begin{align} i\\hbar\\frac{\\partial}{\\partial t} \\Psi(\\mathbf{r},\\,t) = \\hat H \\Psi = \\left(-\\frac{\\hbar^2}{2m}\\nabla^2 + V(\\mathbf{r})\\right)\\Psi(\\mathbf{r},\\,t) \\end{align}\n",
    "$$"
   ]
  },
  {
   "cell_type": "code",
   "execution_count": null,
   "metadata": {},
   "outputs": [],
   "source": [
    "%pylab inline\n",
    "import seaborn as sns\n",
    "import pandas as pd\n",
    "pd.set_option('precision', 5)"
   ]
  },
  {
   "cell_type": "markdown",
   "metadata": {
    "collapsed": true
   },
   "source": [
    "Con estos comandos, cargamos a nuestro entorno de trabajo las librerias necesarias."
   ]
  },
  {
   "cell_type": "markdown",
   "metadata": {},
   "source": [
    "Usemos la funcion de pandas ```read_csv``` para cargar los datos. Esto crea un ```DataFrame```, una unidad de datos en Pandas, que nos da mucha funcionalidad y tiene bastantes propiedades convenientes para el análisis. Probablemente esta operación tome un tiempo asi que sigamos avanzando, cuando esté lista, verás que el numero de la celda habrá sido actualizado."
   ]
  },
  {
   "cell_type": "code",
   "execution_count": null,
   "metadata": {},
   "outputs": [],
   "source": [
    "muni_data = pd.read_csv(\"municipal_guatemala_2008-2011.zip\", \n",
    "                        sep=\";\",\n",
    "                        compression='zip',\n",
    "                        error_bad_lines=False)"
   ]
  },
  {
   "cell_type": "code",
   "execution_count": null,
   "metadata": {},
   "outputs": [],
   "source": [
    "muni_data.head()"
   ]
  },
  {
   "cell_type": "markdown",
   "metadata": {},
   "source": [
    "## DataFrames y más\n",
    "\n",
    "Aqui podemos ver el dataframe que creamos.\n",
    "En Pandas, los DataFrames son unidades básicas, junto con las Series.\n",
    "\n",
    "Veamos una serie muy sencilla antes de pasar a evaluar ```muni_data```, el DataFrame que acabamos de crear. Crearemos una serie de numeros aleatorios, y usaremos funciones estadisticas para analizarlo."
   ]
  },
  {
   "cell_type": "code",
   "execution_count": null,
   "metadata": {},
   "outputs": [],
   "source": [
    "serie_prueba_s = pd.Series(np.random.randn(5), name='prueba')\n",
    "\n",
    "print(serie_prueba_s)\n",
    "\n",
    "print(serie_prueba_s.describe())\n",
    "\n",
    "serie_prueba_s.plot()"
   ]
  },
  {
   "cell_type": "markdown",
   "metadata": {},
   "source": [
    "Con esto podemos ver ya unas propiedades muy interesantes. Las series están basadas en el concepto estadistico, pero incluyen un título (del eje), un índice (el cual identifica a los elementos) y el dato en sí, que puede ser numerico (float), string unicode (texto) u otro tipo de dato.\n",
    "\n",
    "Las series estan basadas tambien en conceptos de vectores, asi que se pueden realizar operaciones vectoriales en las cuales implicitamente se alinean los indíces, esto es muy util por ejemplo para restar dos columnas, sin importar el tamaño de ambas, automaticamente Pandas unirá inteligentemente ambas series. Puedes tambien obtener elementos de las series por su valor de índice, o por un rango, usando la notación usual en Python. Como nota final, las Series comparten mucho del comportamiento de los NumPy Arrays, haciendolos instantaneamente compatibles con muchas librerias y recursos. https://pandas.pydata.org/pandas-docs/stable/dsintro.html#series"
   ]
  },
  {
   "cell_type": "code",
   "execution_count": null,
   "metadata": {},
   "outputs": [],
   "source": [
    "serie_prueba_d = pd.Series(np.random.randn(5), name='prueba 2')\n",
    "\n",
    "print(serie_prueba_d)\n",
    "\n",
    "print(serie_prueba_d[0:3]) # Solo los elementos del 0 al 3\n",
    "\n",
    "# Esto funciona porque ambas series tienen indices en común.\n",
    "# Si sumamos dos con tamaños distintos, los espacios vacios son marcados como NaN\n",
    "serie_prueba_y = serie_prueba_d + (serie_prueba_s * 2)\n",
    "print(serie_prueba_y)\n",
    "print(\"La suma de la serie y es: {suma}\".format(suma=serie_prueba_y.sum()))"
   ]
  },
  {
   "cell_type": "markdown",
   "metadata": {},
   "source": [
    "Pasemos ahora a DataFrames, como nuestro muni_data DataFrame. Los DataFrames son estructuras bi-dimensionales de datos. Son muy usadas porque proveen una abstracción similar a una hoja de calculo o a una tabla de SQL. Los DataFrame tienen índices (etiquetas de fila) y columnas, ambos ejes deben encajar, y el resto será llenado de datos no validos.\n",
    "\n",
    "Por ejemplo podemos unir ambas series y crear un DataFrame nuevo, usando un diccionario de Python, por ejemplo. Tambien podemos graficar los resultados."
   ]
  },
  {
   "cell_type": "code",
   "execution_count": null,
   "metadata": {},
   "outputs": [],
   "source": [
    "prueba_dict = {\n",
    "                        \"col1\": serie_prueba_s,\n",
    "                        \"col2\": serie_prueba_d,\n",
    "                        \"col3\": [1, 2, 3, 4, 0]\n",
    "             }\n",
    "prueba_data_frame = pd.DataFrame(prueba_dict)\n",
    "print(prueba_data_frame)\n",
    "# La operacion .sum() ahora retorna un DataFrame, pero Pandas sabe no combinar peras con manzanas.\n",
    "print(\"La suma de cada columna es: \\n{suma}\".format(suma=prueba_data_frame.sum())) \n",
    "prueba_data_frame.plot()"
   ]
  },
  {
   "cell_type": "markdown",
   "metadata": {},
   "source": [
    "Veamos ahora ya, nuestro DataFrame creado con los datos, muni_data."
   ]
  },
  {
   "cell_type": "code",
   "execution_count": null,
   "metadata": {},
   "outputs": [],
   "source": [
    "#muni_data"
   ]
  },
  {
   "cell_type": "code",
   "execution_count": null,
   "metadata": {},
   "outputs": [],
   "source": [
    "# Una grafica bastante inutil, ¿porque?\n",
    "\n",
    "muni_data.plot()"
   ]
  },
  {
   "cell_type": "code",
   "execution_count": null,
   "metadata": {},
   "outputs": [],
   "source": [
    "# Veamos los datos, limitamos a solo los primeros 5 filas.\n",
    "\n",
    "muni_data.head(5)"
   ]
  },
  {
   "cell_type": "code",
   "execution_count": null,
   "metadata": {},
   "outputs": [],
   "source": [
    "## La columna 'APROBADO' se ve un poco sospechosa.\n",
    "## Python toma a los numeros como números, no con una Q ni un punto (si no lo tiene) ni comas innecesarias. \n",
    "## Veamos mas a detalle.\n",
    "\n",
    "muni_data['APROBADO'].head()"
   ]
  },
  {
   "cell_type": "code",
   "execution_count": null,
   "metadata": {
    "collapsed": true
   },
   "outputs": [],
   "source": [
    "# Vamos a ignorar esto por un momento, pero los números de verdad son de tipo float"
   ]
  },
  {
   "cell_type": "markdown",
   "metadata": {},
   "source": [
    "Veamos cuantas columnas son, podemos explorar un poco mas asi."
   ]
  },
  {
   "cell_type": "code",
   "execution_count": null,
   "metadata": {},
   "outputs": [],
   "source": [
    "muni_data.columns"
   ]
  },
  {
   "cell_type": "code",
   "execution_count": null,
   "metadata": {},
   "outputs": [],
   "source": [
    "muni_data['MUNICIPIO'].unique()[:5] # Listame 5 municipios"
   ]
  },
  {
   "cell_type": "code",
   "execution_count": null,
   "metadata": {},
   "outputs": [],
   "source": [
    "print(\"Funcion 1: \\n {func1} \\n Funcion 2: \\n {func2} \\n Funcion 3: \\n{func3}\".format(\n",
    "        func1=muni_data[\"FUNC1\"].unique(), \n",
    "        func2=muni_data[\"FUNC2\"].unique(),\n",
    "        func3=muni_data[\"FUNC3\"].unique()\n",
    "        )\n",
    "     )"
   ]
  },
  {
   "cell_type": "markdown",
   "metadata": {},
   "source": [
    "Vamos a explorar un poco con indices y etiquetas:"
   ]
  },
  {
   "cell_type": "code",
   "execution_count": null,
   "metadata": {
    "collapsed": true
   },
   "outputs": [],
   "source": [
    "index_geo_data = muni_data.set_index(\"DEPTO\",\"MUNICIPIO\").sort_index()"
   ]
  },
  {
   "cell_type": "code",
   "execution_count": null,
   "metadata": {},
   "outputs": [],
   "source": [
    "index_geo_data.loc[\n",
    "                    [\"GUATEMALA\",\"ESCUINTLA\",\"SACATEPEQUEZ\"],\n",
    "                    ['FUNC1','FUNC2','FUNC3','APROBADO','EJECUTADO']\n",
    "                  ].head()"
   ]
  },
  {
   "cell_type": "markdown",
   "metadata": {},
   "source": [
    "Ahora que podemos realizar selección basica, pensamos, que podemos hacer con estos datos, y nos enfrentamos a un problema..."
   ]
  },
  {
   "cell_type": "code",
   "execution_count": null,
   "metadata": {},
   "outputs": [],
   "source": [
    "muni_data['APROBADO'][3] * 2"
   ]
  },
  {
   "cell_type": "markdown",
   "metadata": {},
   "source": [
    "*¡Rayos!* porque no puedo manipular estos datos así como los otros, y es porque son de tipo texto y no números."
   ]
  },
  {
   "cell_type": "code",
   "execution_count": null,
   "metadata": {
    "collapsed": true
   },
   "outputs": [],
   "source": [
    "# muni_data['APROBADO'].sum() ## No correr, falla..."
   ]
  },
  {
   "cell_type": "markdown",
   "metadata": {},
   "source": [
    "Necesitamos crear una funcion para limpiar estos tipos de dato que son texto, para poderlos convertir a numeros de tipo punto flotante (decimales)."
   ]
  },
  {
   "cell_type": "code",
   "execution_count": null,
   "metadata": {
    "collapsed": true
   },
   "outputs": [],
   "source": [
    "## Esto es una funcion en Python, con def definimos el nombre de esta funcion, 'clean_q'\n",
    "## esta recibe un objeto de entrada.\n",
    "\n",
    "def clean_q(input_object):\n",
    "    from re import sub  ## importamos la función sub, que substituye utilizando patrones\n",
    "    ## https://es.wikipedia.org/wiki/Expresión_regular\n",
    "    \n",
    "    ## NaN es un objeto especial que representa un valor numérico invalido, Not A Number.\n",
    "    if input_object == NaN:\n",
    "        return 0\n",
    "    inp = unicode(input_object) # De objeto a un texto\n",
    "    cleansed_q = sub(r'Q\\.','', inp) # Remueve Q., el slash evita que . sea interpretado como un caracter especial\n",
    "    cleansed_00 = sub(r'\\.00', '', cleansed_q) # Igual aqui\n",
    "    cleansed_comma = sub(',', '', cleansed_00)\n",
    "    cleansed_dash = sub('-', '', cleansed_comma)\n",
    "    cleansed_nonchar = sub(r'[^0-9]+', '', cleansed_dash)\n",
    "    if cleansed_nonchar == '':\n",
    "        return 0\n",
    "    return cleansed_nonchar"
   ]
  },
  {
   "cell_type": "code",
   "execution_count": null,
   "metadata": {
    "collapsed": true
   },
   "outputs": [],
   "source": [
    "presupuesto_aprobado = muni_data['APROBADO'].map(clean_q).astype(float)"
   ]
  },
  {
   "cell_type": "code",
   "execution_count": null,
   "metadata": {},
   "outputs": [],
   "source": [
    "presupuesto_aprobado.describe()"
   ]
  },
  {
   "cell_type": "code",
   "execution_count": null,
   "metadata": {},
   "outputs": [],
   "source": [
    "muni_data['EJECUTADO'].head()"
   ]
  },
  {
   "cell_type": "code",
   "execution_count": null,
   "metadata": {},
   "outputs": [],
   "source": [
    "muni_data['FUNC1'].str.upper().value_counts()"
   ]
  },
  {
   "cell_type": "code",
   "execution_count": null,
   "metadata": {},
   "outputs": [],
   "source": [
    "presupuesto_aprobado.plot()"
   ]
  },
  {
   "cell_type": "markdown",
   "metadata": {},
   "source": [
    "Bueno, ahora ya tenemos estas series de datos convertidas. ¿como las volvemos a agregar al dataset? ¡Facil! lo volvemos a insertar al DataFrame original, sobreescribiendo esa columna."
   ]
  },
  {
   "cell_type": "code",
   "execution_count": null,
   "metadata": {
    "collapsed": true
   },
   "outputs": [],
   "source": [
    "for col in ('APROBADO', 'RETRASADO', 'EJECUTADO', 'PAGADO'):\n",
    "    muni_data[col] = muni_data[col].map(clean_q).astype(float)"
   ]
  },
  {
   "cell_type": "code",
   "execution_count": null,
   "metadata": {},
   "outputs": [],
   "source": [
    "muni_data['APROBADO'].sum()"
   ]
  },
  {
   "cell_type": "code",
   "execution_count": null,
   "metadata": {},
   "outputs": [],
   "source": [
    "muni_data.head()"
   ]
  },
  {
   "cell_type": "code",
   "execution_count": null,
   "metadata": {},
   "outputs": [],
   "source": [
    "muni_data['ECON1'].unique()"
   ]
  },
  {
   "cell_type": "markdown",
   "metadata": {},
   "source": [
    "Ahora si, ¡ya podemos agrupar y hacer indices bien!"
   ]
  },
  {
   "cell_type": "code",
   "execution_count": null,
   "metadata": {
    "collapsed": true
   },
   "outputs": [],
   "source": [
    "index_geo_data = muni_data.set_index(\"DEPTO\",\"MUNICIPIO\").sort_index()"
   ]
  },
  {
   "cell_type": "code",
   "execution_count": null,
   "metadata": {},
   "outputs": [],
   "source": [
    "index_geo_data.head(40)"
   ]
  },
  {
   "cell_type": "code",
   "execution_count": null,
   "metadata": {
    "collapsed": true
   },
   "outputs": [],
   "source": [
    "mi_muni_d = muni_data.set_index([\"ANNO\"],[\"DEPTO\",\"MUNICIPIO\"],[\"FUNC1\",\"ECON1\",\"ORIGEN1\"]).sort_index()"
   ]
  },
  {
   "cell_type": "code",
   "execution_count": null,
   "metadata": {},
   "outputs": [],
   "source": [
    "mi_muni_d.head()"
   ]
  },
  {
   "cell_type": "code",
   "execution_count": null,
   "metadata": {
    "collapsed": true
   },
   "outputs": [],
   "source": [
    "## Para obtener mas ayuda, ejecuta:\n",
    "# help(mi_muni_d)"
   ]
  },
  {
   "cell_type": "code",
   "execution_count": null,
   "metadata": {},
   "outputs": [],
   "source": [
    "mi_muni_d.columns"
   ]
  },
  {
   "cell_type": "code",
   "execution_count": null,
   "metadata": {},
   "outputs": [],
   "source": [
    "mi_muni_d[\"DEPTO\"].describe()"
   ]
  },
  {
   "cell_type": "code",
   "execution_count": null,
   "metadata": {
    "collapsed": true
   },
   "outputs": [],
   "source": [
    "year_grouped = mi_muni_d.groupby(\"ANNO\").sum()"
   ]
  },
  {
   "cell_type": "code",
   "execution_count": null,
   "metadata": {},
   "outputs": [],
   "source": [
    "year_grouped"
   ]
  },
  {
   "cell_type": "code",
   "execution_count": null,
   "metadata": {},
   "outputs": [],
   "source": [
    "year_dep_grouped = mi_muni_d.groupby([\"ANNO\",\"DEPTO\"]).sum()\n",
    "year_dep_grouped.head()\n",
    "\n",
    "sns.set(style=\"whitegrid\")\n",
    "\n",
    "# Draw a nested barplot to show survival for class and sex\n",
    "g = sns.factorplot( data=year_dep_grouped,\n",
    "                   size=6, kind=\"bar\", palette=\"muted\")\n",
    "# g.despine(left=True)\n",
    "g.set_ylabels(\"cantidad\")"
   ]
  },
  {
   "cell_type": "code",
   "execution_count": null,
   "metadata": {},
   "outputs": [],
   "source": [
    "year_dep_grouped.head()\n"
   ]
  },
  {
   "cell_type": "markdown",
   "metadata": {},
   "source": [
    "## Contestando preguntas\n",
    "Ahora ya podemos contestar algunas clases de preguntas agrupando estas entradas individuales de de datos.\n",
    "¿Que tal el departamento que tiene mas gasto en Seguridad? ¿Los tipos de gasto mas elevados como suelen ser pagados?"
   ]
  },
  {
   "cell_type": "code",
   "execution_count": null,
   "metadata": {},
   "outputs": [],
   "source": [
    "year_grouped.plot()"
   ]
  },
  {
   "cell_type": "code",
   "execution_count": null,
   "metadata": {
    "collapsed": true
   },
   "outputs": [],
   "source": [
    "year_dep_group = mi_muni_d.groupby([\"DEPTO\",\"ANNO\"]).sum()"
   ]
  },
  {
   "cell_type": "code",
   "execution_count": null,
   "metadata": {},
   "outputs": [],
   "source": [
    "year_dep_group.unstack().head()"
   ]
  },
  {
   "cell_type": "code",
   "execution_count": null,
   "metadata": {},
   "outputs": [],
   "source": [
    "func_p = mi_muni_d.groupby([\"FUNC1\"]).sum()\n",
    "func_dep = mi_muni_d.groupby([\"FUNC1\",\"DEPTO\"]).sum()\n",
    "func_p"
   ]
  },
  {
   "cell_type": "code",
   "execution_count": null,
   "metadata": {
    "collapsed": true
   },
   "outputs": [],
   "source": [
    "func_dep_flat = func_dep.unstack()"
   ]
  },
  {
   "cell_type": "code",
   "execution_count": null,
   "metadata": {},
   "outputs": [],
   "source": [
    "func_dep_flat.head()"
   ]
  },
  {
   "cell_type": "code",
   "execution_count": null,
   "metadata": {},
   "outputs": [],
   "source": [
    "mi_muni_d.groupby([\"DEPTO\"]).sum()"
   ]
  },
  {
   "cell_type": "code",
   "execution_count": null,
   "metadata": {
    "scrolled": false
   },
   "outputs": [],
   "source": [
    "func_p.plot(kind=\"barh\", figsize=(8,6), linewidth=2.5, height=0.8)"
   ]
  },
  {
   "cell_type": "code",
   "execution_count": null,
   "metadata": {
    "collapsed": true
   },
   "outputs": [],
   "source": []
  }
 ],
 "metadata": {
  "kernelspec": {
   "display_name": "Python 3",
   "language": "python",
   "name": "python3"
  },
  "language_info": {
   "codemirror_mode": {
    "name": "ipython",
    "version": 3
   },
   "file_extension": ".py",
   "mimetype": "text/x-python",
   "name": "python",
   "nbconvert_exporter": "python",
   "pygments_lexer": "ipython3",
   "version": "3.6.1"
  }
 },
 "nbformat": 4,
 "nbformat_minor": 2
}
